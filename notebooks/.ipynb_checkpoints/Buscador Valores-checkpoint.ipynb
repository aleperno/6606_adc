{
 "cells": [
  {
   "cell_type": "markdown",
   "id": "ccff8acb",
   "metadata": {},
   "source": [
    "# Encontrando los valores de los elementos\n",
    "\n",
    "## Transferencia\n",
    "\n",
    "La transferencia dada por el enunciado es de\n",
    "\n",
    "$$\n",
    "H(s)=\\frac{s^2}{s^2+2666*s+3.553*10^6}\n",
    "$$\n",
    "\n",
    "Dado el circuito propuesto, la transferencia está dada por \n",
    "$$\n",
    "H(s) = \\frac{s^2}{s^2+s*(\\frac{1}{r1*c1}+\\frac{1}{r1*c2})+\\frac{1}{r1*r2*c1*c2}}\n",
    "$$\n",
    "\n",
    "Por lo que podemos definir las siguientes relaciones\n",
    "\n",
    "$$\n",
    "\\frac{Q}{\\omega}=\\frac{1}{r1*c1}+\\frac{1}{r1*c2}=2666\n",
    "$$\n",
    "\n",
    "y\n",
    "\n",
    "$$\n",
    "\\omega ^2 = \\frac{1}{r1*r2*c1*c2} = 3.553*10^6 \\rightarrow r1*r2*c1*c2 = 281.45 * 10^-9\n",
    "$$"
   ]
  },
  {
   "cell_type": "markdown",
   "id": "d90c5e36",
   "metadata": {},
   "source": [
    "## Valores\n",
    "\n",
    "Para los capacitores usaremos la serie **E12 (10%)** y para los resistores **E24 (5%)**\n",
    "\n",
    "Obteniendo los valores posibles de [LogWell](https://www.logwell.com/tech/components/resistor_values.html)\n",
    "\n",
    "A su vez poseemos restricciones dadas por el enunciado\n",
    " - Capacitores entre $1 nF$ y $1 \\mu F$\n",
    " - Resistores entre $1 k \\Omega$ y $1 M \\Omega$"
   ]
  },
  {
   "cell_type": "markdown",
   "id": "c813bf18",
   "metadata": {},
   "source": [
    "## Programación\n",
    "\n",
    "Comenzamos haciendo los imports y definición de constantes"
   ]
  },
  {
   "cell_type": "code",
   "execution_count": 12,
   "id": "f9a094a0",
   "metadata": {},
   "outputs": [],
   "source": [
    "from decimal import Decimal\n",
    "from collections import namedtuple\n",
    "\n",
    "# Constantes\n",
    "# r1 * r2 * c1 * c2 = 1/omega^2\n",
    "OMEGA_SQUARE = 281.45e-9\n",
    "# 1/(r1 * c2) + 1/(r1 * c1) = 2666\n",
    "W_Q = 2666\n",
    "# Limites de los elementos\n",
    "min_cap = 1e-9\n",
    "max_cap = 1e-6\n",
    "min_res = 1e3\n",
    "max_res = 1e6\n",
    "# Series de los elementos\n",
    "cap_set = [100,120,150,180,220,270,330,390,470,560,680,820]\n",
    "res_set = [100,110,120,130,150,160,180,200,220,240,270,300,330,360,390,430,470,510,560,620,680,750,820,910]\n",
    "\n",
    "Components = namedtuple('components', ('r1', 'r2', 'c1', 'c2', 'w2', 'err_w2', 'wq', 'err_w_q'))"
   ]
  },
  {
   "cell_type": "markdown",
   "id": "ea6d323a",
   "metadata": {},
   "source": [
    "Se definen algunas funciones auxiliares"
   ]
  },
  {
   "cell_type": "code",
   "execution_count": 13,
   "id": "aa9cb7fc",
   "metadata": {},
   "outputs": [],
   "source": [
    "def fexp(number):\n",
    "    \"\"\"\n",
    "    Dado un numero, devuelve el exponente en base 10 del mismo\n",
    "    \"\"\"\n",
    "    (sign, digits, exponent) = Decimal(number).as_tuple()\n",
    "    return len(digits) + exponent - 1\n",
    "\n",
    "# Validadores de valores\n",
    "def check_res(r):\n",
    "    \"\"\"\n",
    "    Verifica si una resistencia se encuentra entre los valores permitidos\n",
    "    \"\"\"\n",
    "    return min_res <= r <= max_res\n",
    "\n",
    "\n",
    "def check_cap(c):\n",
    "    \"\"\"\n",
    "    Verifica si un capacitor se encuentra entre los valores permitidos\n",
    "    \"\"\"\n",
    "    return min_cap <= c <= max_cap"
   ]
  },
  {
   "cell_type": "markdown",
   "id": "bca87a82",
   "metadata": {},
   "source": [
    "Se define una función para obtener todos los valores posibles de un determinado componente, dada una serie determinada y los límites datos"
   ]
  },
  {
   "cell_type": "code",
   "execution_count": 14,
   "id": "d5d62d6c",
   "metadata": {},
   "outputs": [],
   "source": [
    "def value_yielder(base, serie_value, exp, check_func):\n",
    "    \"\"\"\n",
    "    Dada una valor deserie y un exponente inicial, se buscan todos los valores de multiplicadores\n",
    "        (..., 0.01, 0.1, 1, 10, 100, ...)\n",
    "    que estén dentro de los valores permitidos.\n",
    "    Para ello se usa una base que se espera sea 1 o -1 para ver si se debe aumentar o disminuir\n",
    "    el multiplicador\n",
    "    Ejemplos:\n",
    "        base = 1\n",
    "        serie_value = 10\n",
    "        exp = 10^-9\n",
    "\n",
    "        Se prueba: 10^-9, 10^-8, 10^-7, ...\n",
    "\n",
    "    En cambio si base = -1:\n",
    "        10^-9, 10^-10, 10^-11, ...\n",
    "    \"\"\"\n",
    "    n = 0\n",
    "    while True:\n",
    "        new_base = base * n\n",
    "        multi = 10 ** new_base\n",
    "        num = serie_value * exp * multi\n",
    "        if check_func(num):\n",
    "            yield num\n",
    "            n += 1\n",
    "        else:\n",
    "            break\n",
    "\n",
    "\n",
    "def get_valid_element(min_val, series, check_func):\n",
    "    # Tomo como referencia el valor minimo permitido y tomo su exponente como base\n",
    "    exp = 10**fexp(min_val)\n",
    "\n",
    "    # Primero itero por los valores de las series\n",
    "    for serie_value in series:\n",
    "        # Empiezo con multiplicadores negativos\n",
    "        for value in value_yielder(base=-1, serie_value=serie_value, exp=exp, check_func=check_func):\n",
    "            yield value\n",
    "\n",
    "        # Sigo con multiplicadores positivos\n",
    "        for value in value_yielder(base=1, serie_value=serie_value, exp=exp, check_func=check_func):\n",
    "            yield value"
   ]
  },
  {
   "cell_type": "markdown",
   "id": "75571e32",
   "metadata": {},
   "source": [
    "Luego se hace función de fuerza bruta entre todas las posibilidades y sólo se toman como valores posibles aquellos que en los cálculos de $\\frac{Q}{\\omega}$ y $\\omega$ arrojen un error menor al 10%"
   ]
  },
  {
   "cell_type": "code",
   "execution_count": 15,
   "id": "13349ff5",
   "metadata": {},
   "outputs": [],
   "source": [
    "def brute_force(valid_caps, valid_res):\n",
    "    for c1 in valid_caps:\n",
    "        for c2 in valid_caps:\n",
    "            for r1 in valid_res:\n",
    "                for r2 in valid_res:\n",
    "                    calc_omega = r1 * r2 * c1 * c2\n",
    "                    omega_err = abs(calc_omega - OMEGA_SQUARE) / OMEGA_SQUARE\n",
    "                    calc_q = (1/(r1*c1))+(1/(r1*c2))\n",
    "                    q_err = abs(calc_q - W_Q) / W_Q\n",
    "                    if omega_err <= 0.1 and q_err <= 0.1:\n",
    "                        comp = Components(r1=r1, r2=r2,\n",
    "                                          c1=c1, c2=c2,\n",
    "                                          w2=calc_omega, err_w2=omega_err,\n",
    "                                          wq=calc_q, err_w_q=q_err)\n",
    "                        yield comp, max(omega_err, q_err)"
   ]
  },
  {
   "cell_type": "markdown",
   "id": "9f9e13cf",
   "metadata": {},
   "source": [
    "Por último se hace uso de todos los datos y funciones; se analiza la respuesta de la fuerza bruta y nos quedamos con aquellos resultados cuyo máximo error sea el mínimo del conjunto"
   ]
  },
  {
   "cell_type": "code",
   "execution_count": 16,
   "id": "c4e842bd",
   "metadata": {},
   "outputs": [
    {
     "name": "stdout",
     "output_type": "stream",
     "text": [
      "Tenemos 36 valores posibles de capacitores\n",
      "Tenemos 73 valores posibles de resistencias\n",
      "Tenemos 6906384 valores posibles totales\n",
      "Busco por fuerza bruta\n",
      "Tengo 5226 posibilidades\n",
      "(components(r1=47000.0, r2=2700.0, c1=2.7e-07, c2=8.2e-09, w2=2.809566e-07, err_w2=0.0017530644874756609, wq=2673.5090045935917, err_w_q=0.0028165808678138507), 0.0028165808678138507)\n"
     ]
    }
   ],
   "source": [
    "def resolver():\n",
    "    valid_caps = set(get_valid_element(min_cap, cap_set, check_cap))\n",
    "    valid_res = set(get_valid_element(min_res, res_set, check_res))\n",
    "    n_caps = len(valid_caps)\n",
    "    n_res = len(valid_res)\n",
    "    print(f\"Tenemos {n_caps} valores posibles de capacitores\")\n",
    "    print(f\"Tenemos {n_res} valores posibles de resistencias\")\n",
    "    print(f\"Tenemos {n_res**2 * n_caps**2} valores posibles totales\")\n",
    "\n",
    "    print('Busco por fuerza bruta')\n",
    "    valid_res = list(brute_force(valid_caps, valid_res))\n",
    "    print(f\"Tengo {len(valid_res)} posibilidades\")\n",
    "    mejor = min(valid_res, key=lambda x:x[1])\n",
    "    print(mejor)\n",
    "    \n",
    "resolver()"
   ]
  }
 ],
 "metadata": {
  "kernelspec": {
   "display_name": "Python 3 (ipykernel)",
   "language": "python",
   "name": "python3"
  },
  "language_info": {
   "codemirror_mode": {
    "name": "ipython",
    "version": 3
   },
   "file_extension": ".py",
   "mimetype": "text/x-python",
   "name": "python",
   "nbconvert_exporter": "python",
   "pygments_lexer": "ipython3",
   "version": "3.9.12"
  }
 },
 "nbformat": 4,
 "nbformat_minor": 5
}

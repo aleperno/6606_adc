{
 "cells": [
  {
   "cell_type": "markdown",
   "id": "c3cd86e4",
   "metadata": {},
   "source": [
    "# Analisis de Circuitos - TP"
   ]
  },
  {
   "cell_type": "markdown",
   "id": "ad5f62a4",
   "metadata": {},
   "source": [
    "https://dynamics-and-control.readthedocs.io/en/latest/1_Dynamics/3_Linear_systems/Laplace%20transforms.html\n",
    "https://www.tutorialspoint.com/sympy/sympy_derivative.htm"
   ]
  },
  {
   "cell_type": "markdown",
   "id": "bc57324d",
   "metadata": {},
   "source": [
    "## Transferencia\n",
    "\n",
    "La función de transferencia que me tocó es\n",
    "\n",
    "$$\n",
    "H(s)=\\frac{s^2}{s^2+2666*s+3.553*10^6}\n",
    "$$"
   ]
  },
  {
   "cell_type": "code",
   "execution_count": 45,
   "id": "b5c8c898",
   "metadata": {},
   "outputs": [
    {
     "data": {
      "text/latex": [
       "$\\displaystyle \\frac{s^{2}}{s^{2} + 2666 s + 3553000}$"
      ],
      "text/plain": [
       "s**2/(s**2 + 2666*s + 3553000)"
      ]
     },
     "execution_count": 45,
     "metadata": {},
     "output_type": "execute_result"
    }
   ],
   "source": [
    "import sympy\n",
    "import matplotlib.pyplot as plt\n",
    "import numpy as np\n",
    "\n",
    "t, s = sympy.symbols('t, s', positive=True)\n",
    "\n",
    "def invL(F):\n",
    "    return sympy.inverse_laplace_transform(F, s, t)\n",
    "\n",
    "h = (s**2) / (s**2 + 2666*s + 3553000)\n",
    "h"
   ]
  },
  {
   "cell_type": "markdown",
   "id": "1c83c205",
   "metadata": {},
   "source": [
    "## Respuesta al escalon\n",
    "\n",
    "La respuestá del escalón está definida como\n",
    "\n",
    "$$\n",
    "f_{escalon}(t)=L^{-1}\\Big \\{ \\frac{H(s)}{s} \\Big \\}\n",
    "$$"
   ]
  },
  {
   "cell_type": "code",
   "execution_count": 46,
   "id": "c93dd737",
   "metadata": {},
   "outputs": [
    {
     "data": {
      "text/latex": [
       "$\\displaystyle \\frac{\\left(- 1333 \\sqrt{1776111} \\sin{\\left(\\sqrt{1776111} t \\right)} + 1776111 \\cos{\\left(\\sqrt{1776111} t \\right)}\\right) e^{- 1333 t}}{1776111}$"
      ],
      "text/plain": [
       "(-1333*sqrt(1776111)*sin(sqrt(1776111)*t) + 1776111*cos(sqrt(1776111)*t))*exp(-1333*t)/1776111"
      ]
     },
     "execution_count": 46,
     "metadata": {},
     "output_type": "execute_result"
    }
   ],
   "source": [
    "rta_escalon = invL(h/s)\n",
    "rta_escalon"
   ]
  },
  {
   "cell_type": "code",
   "execution_count": 47,
   "id": "3f040b8b",
   "metadata": {},
   "outputs": [
    {
     "data": {
      "image/png": "[encoded data removed]",
      "text/plain": [
       "<Figure size 432x288 with 1 Axes>"
      ]
     },
     "metadata": {
      "needs_background": "light"
     },
     "output_type": "display_data"
    }
   ],
   "source": [
    "x = np.linspace(0,4,100)\n",
    "\n",
    "lam_x = sympy.lambdify(t, rta_escalon, modules=['numpy'])\n",
    "\n",
    "#lam_x(x)\n",
    "fig = plt.figure()\n",
    "ax = fig.add_subplot(1, 1, 1)\n",
    "ax.spines['bottom'].set_position('zero')\n",
    "# plot the function\n",
    "plt.plot(x,lam_x(x/1000), 'r')\n",
    "\n",
    "# show the plot\n",
    "plt.show()"
   ]
  },
  {
   "cell_type": "markdown",
   "id": "925cfe4c",
   "metadata": {},
   "source": [
    "## Respuesta al Impulso\n",
    "La respueta al impulso está dada por\n",
    "\n",
    "$$\n",
    "f_{impulso} = L^{-1} \\Big \\{ H(s) \\Big \\}\n",
    "$$\n",
    "\n",
    "Sin embargo calcular la inversa de $H(s)$ por métodos numéricos falla, por lo que usaremos la siguiente propiedad\n",
    "\n",
    "$$\n",
    "\\frac{df}{dt} = L^{-1} \\Big \\{ sF(s)-f(0^-) \\Big \\}\n",
    "$$\n",
    "\n",
    "por lo que teniendo\n",
    "\n",
    "$$\n",
    "f_{escalon}(t)=L^{-1}\\Big \\{ \\frac{H(s)}{s} \\Big \\}\n",
    "$$\n",
    "\n",
    "puedo decir que\n",
    "\n",
    "$$\n",
    "f_{impulso}(t) = \\frac{df_{escalon}(t)}{dt}\n",
    "$$"
   ]
  },
  {
   "cell_type": "code",
   "execution_count": 48,
   "id": "15c4e735",
   "metadata": {},
   "outputs": [
    {
     "data": {
      "text/latex": [
       "$\\displaystyle \\left(- \\sqrt{1776111} \\sin{\\left(\\sqrt{1776111} t \\right)} - 1333 \\cos{\\left(\\sqrt{1776111} t \\right)}\\right) e^{- 1333 t} - 1333 \\left(- \\frac{1333 \\sqrt{1776111} \\sin{\\left(\\sqrt{1776111} t \\right)}}{1776111} + \\cos{\\left(\\sqrt{1776111} t \\right)}\\right) e^{- 1333 t}$"
      ],
      "text/plain": [
       "(-sqrt(1776111)*sin(sqrt(1776111)*t) - 1333*cos(sqrt(1776111)*t))*exp(-1333*t) - 1333*(-1333*sqrt(1776111)*sin(sqrt(1776111)*t)/1776111 + cos(sqrt(1776111)*t))*exp(-1333*t)"
      ]
     },
     "execution_count": 48,
     "metadata": {},
     "output_type": "execute_result"
    }
   ],
   "source": [
    "rta_impulso = sympy.diff(rta_escalon, t)\n",
    "rta_impulso"
   ]
  },
  {
   "cell_type": "code",
   "execution_count": 49,
   "id": "10095fd0",
   "metadata": {},
   "outputs": [
    {
     "data": {
      "image/png": "[encoded data removed]",
      "text/plain": [
       "<Figure size 432x288 with 1 Axes>"
      ]
     },
     "metadata": {
      "needs_background": "light"
     },
     "output_type": "display_data"
    }
   ],
   "source": [
    "x = np.linspace(0.1,4,100)\n",
    "\n",
    "lam_x = sympy.lambdify(t, rta_impulso, modules=['numpy'])\n",
    "\n",
    "#lam_x(x)\n",
    "fig = plt.figure()\n",
    "ax = fig.add_subplot(1, 1, 1)\n",
    "ax.spines['bottom'].set_position('zero')\n",
    "# plot the function\n",
    "plt.plot(x,lam_x(x/1000), 'r')\n",
    "\n",
    "# show the plot\n",
    "plt.show()"
   ]
  }
 ],
 "metadata": {
  "kernelspec": {
   "display_name": "Python 3 (ipykernel)",
   "language": "python",
   "name": "python3"
  },
  "language_info": {
   "codemirror_mode": {
    "name": "ipython",
    "version": 3
   },
   "file_extension": ".py",
   "mimetype": "text/x-python",
   "name": "python",
   "nbconvert_exporter": "python",
   "pygments_lexer": "ipython3",
   "version": "3.9.12"
  }
 },
 "nbformat": 4,
 "nbformat_minor": 5
}

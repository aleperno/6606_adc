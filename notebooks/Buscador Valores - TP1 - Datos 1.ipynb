{
 "cells": [
  {
   "cell_type": "markdown",
   "id": "ccff8acb",
   "metadata": {},
   "source": [
    "# Encontrando los valores de los elementos\n",
    "\n",
    "## Polinomio Característico\n",
    "\n",
    "El polinomio característico encontrado es\n",
    "$$\n",
    "0 = r^2 + 186 * r + 138249\n",
    "$$\n",
    "\n",
    "Dado el circuito propuesto, el polinomio está dado por \n",
    "$$\n",
    "0 = r^2 + V_0 * \\left (\\frac{1}{C_1*R_1} +\\frac{1}{C_1*R_2}-\\frac{R_3}{R_2*R_4*C_2}\\right ) + \\frac{1}{R_1 R_2 C_1 C_2}\n",
    "$$\n",
    "\n",
    "Vamos a definir\n",
    "\n",
    "$$\n",
    "\\alpha = 186 \\wedge \\beta = 138249\n",
    "$$"
   ]
  },
  {
   "cell_type": "markdown",
   "id": "d90c5e36",
   "metadata": {},
   "source": [
    "## Valores\n",
    "\n",
    "Para los capacitores usaremos la serie **E12 (10%)** y para los resistores **E24 (5%)**\n",
    "\n",
    "Obteniendo los valores posibles de [LogWell](https://www.logwell.com/tech/components/resistor_values.html)\n",
    "\n",
    "A su vez poseemos restricciones dadas por el enunciado\n",
    " - Capacitores entre $1 nF$ y $1 \\mu F$\n",
    " - Resistores entre $1 k \\Omega$ y $1 M \\Omega$"
   ]
  },
  {
   "cell_type": "markdown",
   "id": "c813bf18",
   "metadata": {},
   "source": [
    "## Programación\n",
    "\n",
    "Comenzamos haciendo los imports y definición de constantes"
   ]
  },
  {
   "cell_type": "code",
   "execution_count": 1,
   "id": "f9a094a0",
   "metadata": {},
   "outputs": [],
   "source": [
    "from decimal import Decimal\n",
    "from collections import namedtuple\n",
    "from itertools import product\n",
    "\n",
    "# Constantes\n",
    "ALPHA = 186\n",
    "BETA = 138249\n",
    "# Limites de los elementos\n",
    "min_cap = 1e-9\n",
    "max_cap = 1e-6\n",
    "min_res = 1e3\n",
    "max_res = 1e6\n",
    "# Series de los elementos\n",
    "cap_set = [100,120,150,180,220,270,330,390,470,560,680,820]\n",
    "res_set = [100,110,120,130,150,160,180,200,220,240,270,300,330,360,390,430,470,510,560,620,680,750,820,910]\n",
    "\n",
    "Components = namedtuple('components', ('r1', 'r2', 'r3', 'r4', 'c1', 'c2', 'alfa', 'err_alfa', 'beta', 'err_beta', 'err_r'))"
   ]
  },
  {
   "cell_type": "code",
   "execution_count": 2,
   "id": "74b2b469",
   "metadata": {},
   "outputs": [],
   "source": [
    "from ipywidgets import IntProgress\n",
    "from IPython.display import display\n",
    "from time import time\n",
    "\n",
    "from multiprocessing import Manager, Pool"
   ]
  },
  {
   "cell_type": "markdown",
   "id": "ea6d323a",
   "metadata": {},
   "source": [
    "Se definen algunas funciones auxiliares"
   ]
  },
  {
   "cell_type": "code",
   "execution_count": 3,
   "id": "aa9cb7fc",
   "metadata": {},
   "outputs": [],
   "source": [
    "def fexp(number):\n",
    "    \"\"\"\n",
    "    Dado un numero, devuelve el exponente en base 10 del mismo\n",
    "    \"\"\"\n",
    "    (sign, digits, exponent) = Decimal(number).as_tuple()\n",
    "    return len(digits) + exponent - 1\n",
    "\n",
    "# Validadores de valores\n",
    "def check_res(r):\n",
    "    \"\"\"\n",
    "    Verifica si una resistencia se encuentra entre los valores permitidos\n",
    "    \"\"\"\n",
    "    return min_res <= r <= max_res\n",
    "\n",
    "\n",
    "def check_cap(c):\n",
    "    \"\"\"\n",
    "    Verifica si un capacitor se encuentra entre los valores permitidos\n",
    "    \"\"\"\n",
    "    return min_cap <= c <= max_cap"
   ]
  },
  {
   "cell_type": "markdown",
   "id": "bca87a82",
   "metadata": {},
   "source": [
    "Se define una función para obtener todos los valores posibles de un determinado componente, dada una serie determinada y los límites datos"
   ]
  },
  {
   "cell_type": "code",
   "execution_count": 4,
   "id": "d5d62d6c",
   "metadata": {},
   "outputs": [],
   "source": [
    "def value_yielder(base, serie_value, exp, check_func):\n",
    "    \"\"\"\n",
    "    Dada una valor deserie y un exponente inicial, se buscan todos los valores de multiplicadores\n",
    "        (..., 0.01, 0.1, 1, 10, 100, ...)\n",
    "    que estén dentro de los valores permitidos.\n",
    "    Para ello se usa una base que se espera sea 1 o -1 para ver si se debe aumentar o disminuir\n",
    "    el multiplicador\n",
    "    Ejemplos:\n",
    "        base = 1\n",
    "        serie_value = 10\n",
    "        exp = 10^-9\n",
    "\n",
    "        Se prueba: 10^-9, 10^-8, 10^-7, ...\n",
    "\n",
    "    En cambio si base = -1:\n",
    "        10^-9, 10^-10, 10^-11, ...\n",
    "    \"\"\"\n",
    "    n = 0\n",
    "    while True:\n",
    "        new_base = base * n\n",
    "        multi = 10 ** new_base\n",
    "        num = serie_value * exp * multi\n",
    "        if check_func(num):\n",
    "            yield num\n",
    "            n += 1\n",
    "        else:\n",
    "            break\n",
    "\n",
    "\n",
    "def get_valid_element(min_val, series, check_func):\n",
    "    # Tomo como referencia el valor minimo permitido y tomo su exponente como base\n",
    "    exp = 10**fexp(min_val)\n",
    "\n",
    "    # Primero itero por los valores de las series\n",
    "    for serie_value in series:\n",
    "        # Empiezo con multiplicadores negativos\n",
    "        for value in value_yielder(base=-1, serie_value=serie_value, exp=exp, check_func=check_func):\n",
    "            yield value\n",
    "\n",
    "        # Sigo con multiplicadores positivos\n",
    "        for value in value_yielder(base=1, serie_value=serie_value, exp=exp, check_func=check_func):\n",
    "            yield value"
   ]
  },
  {
   "cell_type": "markdown",
   "id": "75571e32",
   "metadata": {},
   "source": [
    "Luego se hace función de fuerza bruta entre todas las posibilidades y sólo se toman como valores posibles aquellos que en los cálculos de $\\frac{Q}{\\omega}$ y $\\omega$ arrojen un error menor al 10%"
   ]
  },
  {
   "cell_type": "code",
   "execution_count": 5,
   "id": "13349ff5",
   "metadata": {},
   "outputs": [
    {
     "data": {
      "text/plain": [
       "'\\n    for c1, c2, r1, r2, r3, r4 in gen_values:\\n        # Calculo alfa\\n        calc_alfa = (1/(c1*r1))+(1/(c1*r2))-(r3/(r2*r4*c2))\\n        err_alfa = abs(calc_alfa - ALPHA) / ALPHA\\n        \\n        # Calculo beta\\n        calc_beta = 1/(r1*r2*c1*c2)\\n        err_beta = abs(calc_beta - BETA) / BETA\\n        \\n        if err_alfa <= 0.1 and err_beta <= 0.1:\\n            comp = Components(c1=c1, c2=c2, r1=r1, r2=r2, r3=r3, r4=r4, alfa=calc_alfa, err_alfa=err_alfa, beta=calc_beta, err_beta=err_beta)\\n            yield comp, max(err_alfa, err_beta)\\n        \\n        count += 1\\n        now = time()\\n        if now - last_update >= 2.0:\\n            progress_bar.value += count\\n            last_update = now\\n            count = 0\\n'"
      ]
     },
     "execution_count": 5,
     "metadata": {},
     "output_type": "execute_result"
    }
   ],
   "source": [
    "def brute_force(valid_caps, valid_res):\n",
    "    \"\"\"\n",
    "    Capacitores: c1, c2\n",
    "    Resistores: r1, r2, r3, r4\n",
    "    \"\"\"\n",
    "    # Para acortar\n",
    "    c = valid_caps\n",
    "    r = valid_res\n",
    "    \n",
    "    total_pos = len(valid_caps)**2 * len(valid_res)**4\n",
    "    progress_bar = IntProgress(min=0, max=total_pos)\n",
    "    display(progress_bar)\n",
    "    last_update = time()\n",
    "    count = 0\n",
    "    \n",
    "    # Para minimizar trabajo primero me fijo que valores de r1 r2 c1 c2 me dan un beta aceptable\n",
    "    gen_values = product(r, r, c, c)\n",
    "    \n",
    "    for r1, r2, c1, c2 in gen_values:\n",
    "        # Calculo beta\n",
    "        calc_beta = 1/(r1*r2*c1*c2)\n",
    "        err_beta = abs(calc_beta - BETA) / BETA\n",
    "        \n",
    "        if err_beta <= 0.1:\n",
    "            # Estos valores son aceptables, ahora debo buscar r3, r4\n",
    "            for r3, r4 in product(r, r):\n",
    "                # Calculo alfa\n",
    "                calc_alfa = (1/(c1*r1))+(1/(c1*r2))-(r3/(r2*r4*c2))\n",
    "                err_alfa = abs(calc_alfa - ALPHA) / ALPHA\n",
    "                \n",
    "                # Calculo el cociente entre las resistencias\n",
    "                r_cos = r3 / r4\n",
    "                err_r = abs(r_cos - 349) / 349\n",
    "                \n",
    "                if err_alfa <= 0.1 and err_r <= 0.1:\n",
    "                    # Es aceptable\n",
    "                    comp = Components(c1=c1, c2=c2, r1=r1, r2=r2, r3=r3, r4=r4, alfa=calc_alfa, err_alfa=err_alfa, beta=calc_beta, err_beta=err_beta, err_r=err_r)\n",
    "                    yield comp, max(err_alfa, err_beta, err_r)\n",
    "                count += 1\n",
    "                now = time()\n",
    "                if now - last_update >= 2.0:\n",
    "                    progress_bar.value += count\n",
    "                    last_update = now\n",
    "                    count = 0\n",
    "                    \n",
    "        else:\n",
    "            # No son aceptables, salteo\n",
    "            # Avanzo el contador equivalente al producto de 2 resistencias\n",
    "            count += len(valid_res)**2\n",
    "            \n",
    "        now = time()\n",
    "        if now - last_update >= 2.0:\n",
    "            progress_bar.value += count\n",
    "            last_update = now\n",
    "            count = 0"
   ]
  },
  {
   "cell_type": "markdown",
   "id": "9f9e13cf",
   "metadata": {},
   "source": [
    "Por último se hace uso de todos los datos y funciones; se analiza la respuesta de la fuerza bruta y nos quedamos con aquellos resultados cuyo máximo error sea el mínimo del conjunto"
   ]
  },
  {
   "cell_type": "code",
   "execution_count": 6,
   "id": "c4e842bd",
   "metadata": {
    "scrolled": true
   },
   "outputs": [
    {
     "name": "stdout",
     "output_type": "stream",
     "text": [
      "Tenemos 36 valores posibles de capacitores\n",
      "Tenemos 73 valores posibles de resistencias\n",
      "Tenemos 36804120336 valores posibles totales\n",
      "Busco por fuerza bruta\n"
     ]
    },
    {
     "data": {
      "application/vnd.jupyter.widget-view+json": {
       "model_id": "8140a593eab542e592b610024f773705",
       "version_major": 2,
       "version_minor": 0
      },
      "text/plain": [
       "IntProgress(value=0, max=36804120336)"
      ]
     },
     "metadata": {},
     "output_type": "display_data"
    },
    {
     "name": "stdout",
     "output_type": "stream",
     "text": [
      "Tengo 566 posibilidades\n",
      "(components(r1=62000.0, r2=160000, r3=560000, r4=1600.0, c1=2.7e-09, c2=2.7e-07, alfa=186.67861409797024, err_alfa=0.0036484628923131156, beta=138280.45488738437, err_beta=0.0002275234351378611, err_r=0.0028653295128939827), 0.0036484628923131156)\n"
     ]
    }
   ],
   "source": [
    "def resolver():\n",
    "    valid_caps = set(get_valid_element(min_cap, cap_set, check_cap))\n",
    "    valid_res = set(get_valid_element(min_res, res_set, check_res))\n",
    "    n_caps = len(valid_caps)\n",
    "    n_res = len(valid_res)\n",
    "    print(f\"Tenemos {n_caps} valores posibles de capacitores\")\n",
    "    print(f\"Tenemos {n_res} valores posibles de resistencias\")\n",
    "    print(f\"Tenemos {n_res**4 * n_caps**2} valores posibles totales\")\n",
    "\n",
    "    print('Busco por fuerza bruta')\n",
    "    valid_res = list(brute_force(valid_caps, valid_res))\n",
    "    print(f\"Tengo {len(valid_res)} posibilidades\")\n",
    "    mejor = min(valid_res, key=lambda x:x[1])\n",
    "    print(mejor)\n",
    "    return mejor\n",
    "    \n",
    "mejor = resolver()"
   ]
  },
  {
   "cell_type": "markdown",
   "id": "9e03cc2d",
   "metadata": {},
   "source": [
    "## Comparación\n",
    "\n",
    "Ahora compararemos los resultados obtenidos\n",
    "\n"
   ]
  },
  {
   "cell_type": "code",
   "execution_count": 7,
   "id": "a81e6f4d",
   "metadata": {},
   "outputs": [],
   "source": [
    "import matplotlib.pyplot as plt\n",
    "import numpy as np\n",
    "import sympy\n",
    "\n",
    "t = sympy.symbols('t', positive=True)"
   ]
  },
  {
   "cell_type": "code",
   "execution_count": 20,
   "id": "3c12fdb4",
   "metadata": {},
   "outputs": [],
   "source": [
    "def get_func(coefs, scale=1000):\n",
    "    # Devuelve la función en base a los coeficientes del polinomio\n",
    "    roots = np.roots(coefs)\n",
    "    # Me quedo con una raiz\n",
    "    r = roots[0]\n",
    "    real = r.real\n",
    "    img = abs(r.imag)\n",
    "    \n",
    "    return lambda t: (-0.0035 * np.exp(real*t) * (np.cos(img*t) - (real/img)*np.sin(img*t)) + 0.0035)*scale\n",
    "    \n",
    "    \n",
    "\n",
    "# Defino los coeficients el polinomio característico original\n",
    "coefs_orig = [1, ALPHA, BETA]\n",
    "# Defino los coeficients mediante los resultados obtenidos\n",
    "res = mejor[0]\n",
    "coefs_calc = [1, res.alfa, res.beta]\n",
    "\n",
    "f_orig = get_func(coefs_orig)\n",
    "f_calc = get_func(coefs_calc)"
   ]
  },
  {
   "cell_type": "code",
   "execution_count": 21,
   "id": "cc5642bb",
   "metadata": {},
   "outputs": [
    {
     "data": {
      "image/png": "[encoded data removed]",
      "text/plain": [
       "<Figure size 640x480 with 1 Axes>"
      ]
     },
     "metadata": {},
     "output_type": "display_data"
    }
   ],
   "source": [
    "# Graficoa\n",
    "x = np.linspace(0,60,1000)\n",
    "    \n",
    "plt.plot(x, f_orig(x/1000),x,f_calc(x/1000), 'r--')\n",
    "# show the plot\n",
    "plt.show()"
   ]
  },
  {
   "cell_type": "code",
   "execution_count": null,
   "id": "c236916a",
   "metadata": {},
   "outputs": [],
   "source": []
  }
 ],
 "metadata": {
  "kernelspec": {
   "display_name": "Python 3 (ipykernel)",
   "language": "python",
   "name": "python3"
  },
  "language_info": {
   "codemirror_mode": {
    "name": "ipython",
    "version": 3
   },
   "file_extension": ".py",
   "mimetype": "text/x-python",
   "name": "python",
   "nbconvert_exporter": "python",
   "pygments_lexer": "ipython3",
   "version": "3.8.10"
  }
 },
 "nbformat": 4,
 "nbformat_minor": 5
}

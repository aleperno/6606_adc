{
 "cells": [
  {
   "cell_type": "markdown",
   "id": "c3cd86e4",
   "metadata": {},
   "source": [
    "# Analisis de Circuitos - TP"
   ]
  },
  {
   "cell_type": "markdown",
   "id": "ad5f62a4",
   "metadata": {},
   "source": [
    "https://dynamics-and-control.readthedocs.io/en/latest/1_Dynamics/3_Linear_systems/Laplace%20transforms.html\n",
    "\n",
    "https://www.tutorialspoint.com/sympy/sympy_derivative.htm\n",
    "\n",
    "https://jckantor.github.io/CBE30338/05.03-Creating-Bode-Plots.html"
   ]
  },
  {
   "cell_type": "markdown",
   "id": "bc57324d",
   "metadata": {},
   "source": [
    "## Transferencia\n",
    "\n",
    "La función de transferencia que me tocó es\n",
    "\n",
    "$$\n",
    "H(s)=\\frac{s^2}{s^2+2666*s+3.553*10^6}\n",
    "$$"
   ]
  },
  {
   "cell_type": "code",
   "execution_count": 3,
   "id": "b5c8c898",
   "metadata": {},
   "outputs": [
    {
     "data": {
      "text/latex": [
       "$\\displaystyle \\frac{s^{2}}{s^{2} + 2666 s + 3553000}$"
      ],
      "text/plain": [
       "s**2/(s**2 + 2666*s + 3553000)"
      ]
     },
     "execution_count": 3,
     "metadata": {},
     "output_type": "execute_result"
    }
   ],
   "source": [
    "import sympy\n",
    "import matplotlib.pyplot as plt\n",
    "import numpy as np\n",
    "\n",
    "t, s = sympy.symbols('t, s', positive=True)\n",
    "\n",
    "def invL(F):\n",
    "    return sympy.inverse_laplace_transform(F, s, t)\n",
    "\n",
    "h = (s**2) / (s**2 + 2666*s + 3553000)\n",
    "h"
   ]
  },
  {
   "cell_type": "markdown",
   "id": "1c83c205",
   "metadata": {},
   "source": [
    "## Respuesta al escalon\n",
    "\n",
    "La respuestá del escalón está definida como\n",
    "\n",
    "$$\n",
    "f_{escalon}(t)=L^{-1}\\Big \\{ \\frac{H(s)}{s} \\Big \\}\n",
    "$$"
   ]
  },
  {
   "cell_type": "code",
   "execution_count": 4,
   "id": "c93dd737",
   "metadata": {},
   "outputs": [
    {
     "data": {
      "text/latex": [
       "$\\displaystyle \\frac{\\left(- 1333 \\sqrt{1776111} \\sin{\\left(\\sqrt{1776111} t \\right)} + 1776111 \\cos{\\left(\\sqrt{1776111} t \\right)}\\right) e^{- 1333 t}}{1776111}$"
      ],
      "text/plain": [
       "(-1333*sqrt(1776111)*sin(sqrt(1776111)*t) + 1776111*cos(sqrt(1776111)*t))*exp(-1333*t)/1776111"
      ]
     },
     "execution_count": 4,
     "metadata": {},
     "output_type": "execute_result"
    }
   ],
   "source": [
    "rta_escalon = invL(h/s)\n",
    "rta_escalon"
   ]
  },
  {
   "cell_type": "code",
   "execution_count": 5,
   "id": "3f040b8b",
   "metadata": {},
   "outputs": [],
   "source": [
    "def plot(func):\n",
    "    x = np.linspace(0,4,100)\n",
    "\n",
    "    lam_x = sympy.lambdify(t, func, modules=['numpy'])\n",
    "\n",
    "    #lam_x(x)\n",
    "    fig = plt.figure()\n",
    "    ax = fig.add_subplot(1, 1, 1)\n",
    "    ax.spines['bottom'].set_position('zero')\n",
    "    # plot the function\n",
    "    plt.plot(x,lam_x(x/1000), 'r')\n",
    "\n",
    "    # show the plot\n",
    "    plt.show()"
   ]
  },
  {
   "cell_type": "code",
   "execution_count": 6,
   "id": "23b94e56",
   "metadata": {},
   "outputs": [
    {
     "data": {
      "image/png": "[encoded data removed]",
      "text/plain": [
       "<Figure size 432x288 with 1 Axes>"
      ]
     },
     "metadata": {
      "needs_background": "light"
     },
     "output_type": "display_data"
    }
   ],
   "source": [
    "plot(rta_escalon)"
   ]
  },
  {
   "cell_type": "markdown",
   "id": "925cfe4c",
   "metadata": {},
   "source": [
    "## Respuesta al Impulso\n",
    "La respueta al impulso está dada por\n",
    "\n",
    "$$\n",
    "f_{impulso} = L^{-1} \\Big \\{ H(s) \\Big \\}\n",
    "$$\n",
    "\n",
    "Sin embargo calcular la inversa de $H(s)$ por métodos numéricos falla, por lo que usaremos la siguiente propiedad\n",
    "\n",
    "$$\n",
    "\\frac{df}{dt} = L^{-1} \\Big \\{ sF(s)-f(0^-) \\Big \\}\n",
    "$$\n",
    "\n",
    "por lo que teniendo\n",
    "\n",
    "$$\n",
    "f_{escalon}(t)=L^{-1}\\Big \\{ \\frac{H(s)}{s} \\Big \\}\n",
    "$$\n",
    "\n",
    "puedo decir que\n",
    "\n",
    "$$\n",
    "f_{impulso}(t) = \\frac{df_{escalon}(t)}{dt}\n",
    "$$"
   ]
  },
  {
   "cell_type": "code",
   "execution_count": 7,
   "id": "15c4e735",
   "metadata": {},
   "outputs": [
    {
     "data": {
      "text/latex": [
       "$\\displaystyle \\left(- \\sqrt{1776111} \\sin{\\left(\\sqrt{1776111} t \\right)} - 1333 \\cos{\\left(\\sqrt{1776111} t \\right)}\\right) e^{- 1333 t} - 1333 \\left(- \\frac{1333 \\sqrt{1776111} \\sin{\\left(\\sqrt{1776111} t \\right)}}{1776111} + \\cos{\\left(\\sqrt{1776111} t \\right)}\\right) e^{- 1333 t}$"
      ],
      "text/plain": [
       "(-sqrt(1776111)*sin(sqrt(1776111)*t) - 1333*cos(sqrt(1776111)*t))*exp(-1333*t) - 1333*(-1333*sqrt(1776111)*sin(sqrt(1776111)*t)/1776111 + cos(sqrt(1776111)*t))*exp(-1333*t)"
      ]
     },
     "execution_count": 7,
     "metadata": {},
     "output_type": "execute_result"
    }
   ],
   "source": [
    "rta_impulso = sympy.diff(rta_escalon, t)\n",
    "rta_impulso"
   ]
  },
  {
   "cell_type": "code",
   "execution_count": 10,
   "id": "10095fd0",
   "metadata": {},
   "outputs": [
    {
     "data": {
      "image/png": "[encoded data removed]",
      "text/plain": [
       "<Figure size 432x288 with 1 Axes>"
      ]
     },
     "metadata": {
      "needs_background": "light"
     },
     "output_type": "display_data"
    }
   ],
   "source": [
    "plot(rta_impulso)"
   ]
  },
  {
   "cell_type": "markdown",
   "id": "a7976192",
   "metadata": {},
   "source": [
    "## Transferencia Real"
   ]
  },
  {
   "cell_type": "code",
   "execution_count": 13,
   "id": "bb68a082",
   "metadata": {},
   "outputs": [
    {
     "data": {
      "text/latex": [
       "$\\displaystyle \\frac{s^{2}}{s^{2} + 2673.51 s + 3559000}$"
      ],
      "text/plain": [
       "s**2/(s**2 + 2673.51*s + 3559000)"
      ]
     },
     "execution_count": 13,
     "metadata": {},
     "output_type": "execute_result"
    }
   ],
   "source": [
    "h_real = (s**2) / (s**2 + 2673.51*s + 3559000)\n",
    "h_real"
   ]
  },
  {
   "cell_type": "markdown",
   "id": "be1f3c26",
   "metadata": {},
   "source": [
    "### Respuesta al escalon"
   ]
  },
  {
   "cell_type": "code",
   "execution_count": 14,
   "id": "24fbb230",
   "metadata": {},
   "outputs": [
    {
     "data": {
      "text/latex": [
       "$\\displaystyle 1.0 \\left(- 1.00417501483518 \\sin{\\left(1331.19723180865 t \\right)} + 1.0 \\cos{\\left(1331.19723180865 t \\right)}\\right) e^{- 1336.755 t}$"
      ],
      "text/plain": [
       "1.0*(-1.00417501483518*sin(1331.19723180865*t) + 1.0*cos(1331.19723180865*t))*exp(-1336.755*t)"
      ]
     },
     "execution_count": 14,
     "metadata": {},
     "output_type": "execute_result"
    }
   ],
   "source": [
    "rta_escalon_real = invL(h_real/s)\n",
    "rta_escalon_real"
   ]
  },
  {
   "cell_type": "code",
   "execution_count": 15,
   "id": "4d05a2e3",
   "metadata": {},
   "outputs": [
    {
     "data": {
      "image/png": "[encoded data removed]",
      "text/plain": [
       "<Figure size 432x288 with 1 Axes>"
      ]
     },
     "metadata": {
      "needs_background": "light"
     },
     "output_type": "display_data"
    }
   ],
   "source": [
    "plot(rta_escalon_real)"
   ]
  },
  {
   "cell_type": "markdown",
   "id": "1ecc5c29",
   "metadata": {},
   "source": [
    "### Respuesta al impulso"
   ]
  },
  {
   "cell_type": "code",
   "execution_count": 16,
   "id": "c9a34bbb",
   "metadata": {},
   "outputs": [
    {
     "data": {
      "text/latex": [
       "$\\displaystyle \\left(- 1331.19723180865 \\sin{\\left(1331.19723180865 t \\right)} - 1336.755 \\cos{\\left(1331.19723180865 t \\right)}\\right) e^{- 1336.755 t} - 1336.755 \\left(- 1.00417501483518 \\sin{\\left(1331.19723180865 t \\right)} + 1.0 \\cos{\\left(1331.19723180865 t \\right)}\\right) e^{- 1336.755 t}$"
      ],
      "text/plain": [
       "(-1331.19723180865*sin(1331.19723180865*t) - 1336.755*cos(1331.19723180865*t))*exp(-1336.755*t) - 1336.755*(-1.00417501483518*sin(1331.19723180865*t) + 1.0*cos(1331.19723180865*t))*exp(-1336.755*t)"
      ]
     },
     "execution_count": 16,
     "metadata": {},
     "output_type": "execute_result"
    }
   ],
   "source": [
    "rta_impulso_real = sympy.diff(rta_escalon_real, t)\n",
    "rta_impulso_real"
   ]
  },
  {
   "cell_type": "code",
   "execution_count": 17,
   "id": "31ceea31",
   "metadata": {},
   "outputs": [
    {
     "data": {
      "image/png": "[encoded data removed]",
      "text/plain": [
       "<Figure size 432x288 with 1 Axes>"
      ]
     },
     "metadata": {
      "needs_background": "light"
     },
     "output_type": "display_data"
    }
   ],
   "source": [
    "plot(rta_impulso_real)"
   ]
  },
  {
   "cell_type": "code",
   "execution_count": 30,
   "id": "f507d292",
   "metadata": {},
   "outputs": [],
   "source": [
    "sp = sympy\n",
    "def aux(eq):\n",
    "    top, bot = [[float(i) for i in sp.Poly(i, s).all_coeffs()] for i in eq.as_numer_denom()]\n",
    "    return top, bot\n"
   ]
  },
  {
   "cell_type": "code",
   "execution_count": 31,
   "id": "1b906b56",
   "metadata": {},
   "outputs": [
    {
     "data": {
      "text/plain": [
       "([1.0, 0.0, 0.0], [1.0, 2673.51, 3559000.0])"
      ]
     },
     "execution_count": 31,
     "metadata": {},
     "output_type": "execute_result"
    }
   ],
   "source": [
    "aux(h_real)"
   ]
  },
  {
   "cell_type": "code",
   "execution_count": 32,
   "id": "e9195996",
   "metadata": {},
   "outputs": [],
   "source": [
    "%matplotlib inline\n",
    "import numpy as np\n",
    "import matplotlib.pyplot as plt\n",
    "import control\n",
    "\n",
    "import warnings\n",
    "warnings.filterwarnings('ignore')\n"
   ]
  },
  {
   "cell_type": "code",
   "execution_count": 33,
   "id": "151bea64",
   "metadata": {},
   "outputs": [
    {
     "name": "stdout",
     "output_type": "stream",
     "text": [
      "\n",
      "          s^2\n",
      "------------------------\n",
      "s^2 + 2674 s + 3.559e+06\n",
      "\n"
     ]
    }
   ],
   "source": [
    "G = control.tf(*aux(h_real))\n",
    "print(G)"
   ]
  },
  {
   "cell_type": "code",
   "execution_count": 34,
   "id": "9daaef25",
   "metadata": {},
   "outputs": [
    {
     "data": {
      "image/png": "[encoded data removed]",
      "text/plain": [
       "<Figure size 432x288 with 2 Axes>"
      ]
     },
     "metadata": {
      "needs_background": "light"
     },
     "output_type": "display_data"
    }
   ],
   "source": [
    "mag,phase,omega = control.bode(G)"
   ]
  }
 ],
 "metadata": {
  "kernelspec": {
   "display_name": "Python 3 (ipykernel)",
   "language": "python",
   "name": "python3"
  },
  "language_info": {
   "codemirror_mode": {
    "name": "ipython",
    "version": 3
   },
   "file_extension": ".py",
   "mimetype": "text/x-python",
   "name": "python",
   "nbconvert_exporter": "python",
   "pygments_lexer": "ipython3",
   "version": "3.8.10"
  }
 },
 "nbformat": 4,
 "nbformat_minor": 5
}
